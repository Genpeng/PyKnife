{
 "cells": [
  {
   "cell_type": "markdown",
   "metadata": {},
   "source": [
    "# 动态规划学习笔记1\n",
    "\n",
    "\n",
    "**创建时间：2019年7月8日**"
   ]
  },
  {
   "cell_type": "markdown",
   "metadata": {},
   "source": [
    "Reference:\n",
    "1. [正月点灯笼的动态规划讲解1](https://www.bilibili.com/video/av16544031)\n",
    "2. [正月点灯笼的动态规划讲解2](https://www.bilibili.com/video/av18512769)"
   ]
  },
  {
   "cell_type": "markdown",
   "metadata": {
    "collapsed": true
   },
   "source": [
    "动态规划可以解决重叠子问题（overlab sub-problem），将时间复杂度从 $O(2 ^ n)$ 降为 $O(n)$。"
   ]
  },
  {
   "cell_type": "markdown",
   "metadata": {},
   "source": [
    "问题1：\n",
    "\n",
    "求出数组中不相邻元素的最大和。"
   ]
  },
  {
   "cell_type": "code",
   "execution_count": 3,
   "metadata": {},
   "outputs": [
    {
     "name": "stdout",
     "output_type": "stream",
     "text": [
      "15\n",
      "15\n"
     ]
    }
   ],
   "source": [
    "def rec_opt(arr, i):\n",
    "    if i == 0:\n",
    "        return arr[0]\n",
    "    elif i == 1:\n",
    "        return max(arr[0], arr[1])\n",
    "    else:\n",
    "        case1 = arr[i] + rec_opt(arr, i - 2)  # select\n",
    "        case2 = rec_opt(arr, i - 1)  # skip\n",
    "        return max(case1, case2)\n",
    "    \n",
    "\n",
    "def dp_opt(arr):\n",
    "    opt = [0] * len(arr)\n",
    "    opt[0] = arr[0]\n",
    "    opt[1] = max(arr[0], arr[1])\n",
    "    for i in range(2, len(arr)):\n",
    "        case1 = arr[i] + opt[i-2]  # select\n",
    "        case2 = opt[i-1]  # skip\n",
    "        opt[i] = max(case1, case2)\n",
    "    return opt[-1]\n",
    "    \n",
    "    \n",
    "if __name__ == '__main__':\n",
    "    arr = [1, 2, 4, 1, 7, 8, 3]\n",
    "    print(rec_opt(arr, 6))\n",
    "    print(dp_opt(arr))"
   ]
  },
  {
   "cell_type": "markdown",
   "metadata": {},
   "source": [
    "问题2：\n",
    "\n",
    "求数组中是否存在至少一组组合，使得组合的和等于目标值，如果存在返回 `true`，否则返回 `false`。"
   ]
  },
  {
   "cell_type": "code",
   "execution_count": 9,
   "metadata": {},
   "outputs": [
    {
     "name": "stdout",
     "output_type": "stream",
     "text": [
      "True\n",
      "True\n"
     ]
    }
   ],
   "source": [
    "import numpy as np\n",
    "\n",
    "\n",
    "def rec_subset(arr, i, s):\n",
    "    if s == 0:\n",
    "        return True\n",
    "    elif i == 0:\n",
    "        return arr[0] == s\n",
    "    elif arr[i] > s:\n",
    "        return rec_subset(arr, i-1, s)\n",
    "    else:\n",
    "        case1 = rec_subset(arr, i-1, s-arr[i])  # select\n",
    "        case2 = rec_subset(arr, i-1, s)  # skip\n",
    "        return case1 or case2\n",
    "    \n",
    "\n",
    "def dp_subset(arr, S):\n",
    "    subset = np.zeros((len(arr), S+1), dtype=bool)\n",
    "    subset[:, 0] = True\n",
    "    subset[0, :] = False\n",
    "    subset[0, arr[0]] = True\n",
    "    for i in range(len(arr)):\n",
    "        for s in range(S+1):\n",
    "            if arr[i] > S:\n",
    "                subset[i, s] = subset[i-1, s]\n",
    "            else:\n",
    "                case1 = subset[i-1, s-arr[i]]\n",
    "                case2 = subset[i-1, s]\n",
    "                subset[i, s] = case1 or case2\n",
    "    r, c = subset.shape\n",
    "    return subset[r-1, c-1]\n",
    "\n",
    "        \n",
    "if __name__ == '__main__':\n",
    "    arr = [3, 34, 4, 12, 5, 2]\n",
    "    print(rec_subset(arr, 5, 9))\n",
    "    print(dp_subset(arr, 9))"
   ]
  },
  {
   "cell_type": "code",
   "execution_count": null,
   "metadata": {},
   "outputs": [],
   "source": []
  }
 ],
 "metadata": {
  "kernelspec": {
   "display_name": "Python 3",
   "language": "python",
   "name": "python3"
  },
  "language_info": {
   "codemirror_mode": {
    "name": "ipython",
    "version": 3
   },
   "file_extension": ".py",
   "mimetype": "text/x-python",
   "name": "python",
   "nbconvert_exporter": "python",
   "pygments_lexer": "ipython3",
   "version": "3.6.8"
  }
 },
 "nbformat": 4,
 "nbformat_minor": 1
}
